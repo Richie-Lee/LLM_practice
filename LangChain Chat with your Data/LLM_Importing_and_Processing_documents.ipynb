{
 "cells": [
  {
   "cell_type": "markdown",
   "id": "52ad437f",
   "metadata": {},
   "source": [
    "## Part 1: Document Loading\n",
    "\n",
    "Type of documents covered:\n",
    "- PDFs\n",
    "- Youtube Videos\n",
    "- Website \n",
    "\n",
    "Import and stardardise such that we obtain:\n",
    "- Content\n",
    "- Meta data"
   ]
  },
  {
   "cell_type": "code",
   "execution_count": null,
   "id": "89081729",
   "metadata": {},
   "outputs": [],
   "source": [
    "import openai\n",
    "import os\n",
    "\n",
    "# Connecting to account\n",
    "from dotenv import load_dotenv, find_dotenv\n",
    "_ = load_dotenv(find_dotenv(\"C:/Users/richi/OneDrive/Documents/OpenAI API practice/openai_api_key.env\")) # read local .env file\n",
    "openai.api_key = os.environ[\"OPENAI_API_KEY\"]"
   ]
  },
  {
   "cell_type": "markdown",
   "id": "8edd7c40",
   "metadata": {},
   "source": [
    "### PDF\n",
    "\n",
    "Each page is a Document. A Document contains text (page_content) and metadata."
   ]
  },
  {
   "cell_type": "code",
   "execution_count": null,
   "id": "7f0cf4d4",
   "metadata": {},
   "outputs": [],
   "source": [
    "# pip install pypdf "
   ]
  },
  {
   "cell_type": "code",
   "execution_count": null,
   "id": "3ea21bf5",
   "metadata": {},
   "outputs": [],
   "source": [
    "from langchain.document_loaders import PyPDFLoader\n",
    "loader = PyPDFLoader(\"C:/Users/richi/OneDrive/Documents/OpenAI API practice/Langchain for LLM applications/Deep_Learning_A4.pdf\")\n",
    "pages = loader.load()"
   ]
  },
  {
   "cell_type": "code",
   "execution_count": null,
   "id": "e57a3903",
   "metadata": {},
   "outputs": [],
   "source": [
    "page = pages[0]\n",
    "page.page_content[0:500] # number of characters\n",
    "page.metadata # "
   ]
  },
  {
   "cell_type": "markdown",
   "id": "7ce6ed90",
   "metadata": {},
   "source": [
    "### Youtube (Broken - to be fixed)\n",
    "- Issue: yt_dlp can't find the ffmpeg files, even though they're properly installed on the local device. Didn't resolve why yet...\n",
    "- Tutorial used: https://www.youtube.com/watch?v=IECI72XEox0"
   ]
  },
  {
   "cell_type": "code",
   "execution_count": null,
   "id": "70da73b9",
   "metadata": {},
   "outputs": [],
   "source": [
    "# ! pip install yt_dlp\n",
    "# ! pip install pydub"
   ]
  },
  {
   "cell_type": "code",
   "execution_count": null,
   "id": "c4c94fc6",
   "metadata": {},
   "outputs": [],
   "source": [
    "from langchain.document_loaders.generic import GenericLoader\n",
    "from langchain.document_loaders.parsers import OpenAIWhisperParser # converts youtube audio to text format (langchain model)\n",
    "from langchain.document_loaders.blob_loaders.youtube_audio import YoutubeAudioLoader"
   ]
  },
  {
   "cell_type": "code",
   "execution_count": null,
   "id": "012edfae",
   "metadata": {},
   "outputs": [],
   "source": [
    "# Youtube URL (video: Josh Angrist: What's the Difference Between Econometrics and Data Science? - 2 min)\n",
    "url = \"https://www.youtube.com/watch?v=2EhRT2mOXm8&t=2s\"\n",
    "\n",
    "# Directory where to save audio\n",
    "save_dir = \"C:/Users/richi/OneDrive/Documents/OpenAI API practice/Langchain for LLM applications/\"\n"
   ]
  },
  {
   "cell_type": "code",
   "execution_count": null,
   "id": "019769a8",
   "metadata": {},
   "outputs": [],
   "source": [
    "# DOESN'T WORK FOR SOME REASON - installed fmpeg stuff...\n",
    "\n",
    "# Note: may take a while & will give error if the content is already present/downloaded in file directory\n",
    "loader = GenericLoader(\n",
    "    YoutubeAudioLoader([url], save_dir),\n",
    "    OpenAIWhisperParser()\n",
    ")\n",
    "\n",
    "docs = loader.load()"
   ]
  },
  {
   "cell_type": "code",
   "execution_count": null,
   "id": "942d877e",
   "metadata": {},
   "outputs": [],
   "source": [
    "doc = docs[0]\n",
    "doc.page_content[0: 500]\n",
    "doc.metadata"
   ]
  },
  {
   "cell_type": "markdown",
   "id": "338d445d",
   "metadata": {},
   "source": [
    "### URLs\n",
    "\n",
    "Note: format is probably really poorly formatted, so we should post-process for readability."
   ]
  },
  {
   "cell_type": "code",
   "execution_count": 49,
   "id": "ae27c006",
   "metadata": {},
   "outputs": [],
   "source": [
    "from langchain.document_loaders import WebBaseLoader\n",
    "\n",
    "loader = WebBaseLoader(\"https://richie-lee.github.io/post/2021_uplift/\")"
   ]
  },
  {
   "cell_type": "code",
   "execution_count": 50,
   "id": "8ac447a2",
   "metadata": {},
   "outputs": [],
   "source": [
    "docs = loader.load()"
   ]
  },
  {
   "cell_type": "code",
   "execution_count": 52,
   "id": "3766982f",
   "metadata": {},
   "outputs": [
    {
     "data": {
      "text/plain": [
       "'\\n\\n\\n\\n\\n\\n\\n\\n\\n\\n\\n\\n\\n\\n\\n\\n\\n\\n\\nUplift Modelling: Personalising Discount Campaigns | Personal Webpage\\n\\n\\n\\n\\n\\n\\n\\n\\n\\n\\n\\n\\n\\n\\nToggle navigation\\n\\n\\n\\n\\nRichie Lee\\n\\n\\n\\n\\n\\nAll Posts\\n\\n\\nprojects\\n\\nABOUT\\n\\n\\n\\n\\n\\n\\n\\n\\n\\n\\n\\n\\n\\n\\n\\n\\n\\n                            A/B Testing\\n                        \\n\\n                            Causal Inference\\n                        \\n\\n                            Data Science\\n                        \\n\\n                            Experimentation\\n                        \\n\\n                            Forecasting\\n                        \\n\\n                            Machine Learning\\n                        \\n\\n                            Uplift\\n                        \\n\\nUplift Modelling: Personalising Discount Campaigns\\nCombining Causal Inference & Personalisation (Machine Learning) to identify optimal target audiences using A/B/n experiment data\\n\\n                        \\n                            Posted by \\n                            \\n                                Richie\\n                             \\n                            on \\n                            Tuesday, February 1, 2022\\n                            \\n                            \\n                            \\n                            \\n                    \\n\\n\\n\\n\\n\\n\\n\\n\\n\\nTL:DR\\nThis post cover an application of Uplift modelling, a methodology that leverages causal inference insights alongside personalisation techniques (XGBoost) to optimise ROI on, in this case, an A/B/n tested marketing campaign. The experiment results can be used to'"
      ]
     },
     "execution_count": 52,
     "metadata": {},
     "output_type": "execute_result"
    }
   ],
   "source": [
    "doc = docs[0]\n",
    "doc.page_content[:1500]"
   ]
  },
  {
   "cell_type": "code",
   "execution_count": null,
   "id": "4f56babc",
   "metadata": {},
   "outputs": [],
   "source": []
  },
  {
   "cell_type": "code",
   "execution_count": null,
   "id": "89839237",
   "metadata": {},
   "outputs": [],
   "source": []
  },
  {
   "cell_type": "code",
   "execution_count": null,
   "id": "23967873",
   "metadata": {},
   "outputs": [],
   "source": []
  },
  {
   "cell_type": "code",
   "execution_count": null,
   "id": "ac40b62f",
   "metadata": {},
   "outputs": [],
   "source": []
  }
 ],
 "metadata": {
  "kernelspec": {
   "display_name": "Python 3 (ipykernel)",
   "language": "python",
   "name": "python3"
  },
  "language_info": {
   "codemirror_mode": {
    "name": "ipython",
    "version": 3
   },
   "file_extension": ".py",
   "mimetype": "text/x-python",
   "name": "python",
   "nbconvert_exporter": "python",
   "pygments_lexer": "ipython3",
   "version": "3.11.3"
  }
 },
 "nbformat": 4,
 "nbformat_minor": 5
}
